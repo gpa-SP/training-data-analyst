{
  "nbformat": 4,
  "nbformat_minor": 0,
  "metadata": {
    "colab": {
      "name": "SegundaCorridaRevitalift[Tv de Paga].ipynb",
      "provenance": [],
      "collapsed_sections": [],
      "include_colab_link": true
    },
    "kernelspec": {
      "name": "python3",
      "display_name": "Python 3"
    }
  },
  "cells": [
    {
      "cell_type": "markdown",
      "metadata": {
        "id": "view-in-github",
        "colab_type": "text"
      },
      "source": [
        "<a href=\"https://colab.research.google.com/github/gpa-SP/training-data-analyst/blob/master/SegundaCorridaRevitalift%5BTv_de_Paga%5D.ipynb\" target=\"_parent\"><img src=\"https://colab.research.google.com/assets/colab-badge.svg\" alt=\"Open In Colab\"/></a>"
      ]
    },
    {
      "cell_type": "markdown",
      "metadata": {
        "id": "6YrakUNnQ20B"
      },
      "source": [
        "This script is not an officially supported Google product. It is provided without any guarantees, warranty, or liability to Google. \n",
        "\n",
        "Before using it, an engineer in the user's organization must review the code and ensure the company is comfortable with how it works.\n",
        "\n",
        "It’s also important to note that Google doesn’t guarantee or promise any particular results from implementing this script. \n",
        "\n",
        "THIS SOFTWARE IS PROVIDED BY THE AUTHOR AND CONTRIBUTORS “AS IS” AND ANY EXPRESS OR IMPLIED WARRANTIES, INCLUDING, BUT NOT LIMITED TO, THE IMPLIED WARRANTIES OF MERCHANTABILITY AND FITNESS FOR A PARTICULAR PURPOSE ARE DISCLAIMED. IN NO EVENT SHALL THE AUTHOR OR CONTRIBUTORS BE LIABLE FOR ANY DIRECT, INDIRECT, INCIDENTAL, SPECIAL, EXEMPLARY, OR CONSEQUENTIAL DAMAGES (INCLUDING, BUT NOT LIMITED TO, PROCUREMENT OF SUBSTITUTE GOODS OR SERVICES; LOSS OF USE, DATA, OR PROFITS; OR BUSINESS INTERRUPTION) HOWEVER CAUSED AND ON ANY THEORY OF LIABILITY, WHETHER IN CONTRACT, STRICT LIABILITY, OR TORT (INCLUDING NEGLIGENCE OR OTHERWISE) ARISING IN ANY WAY OUT OF THE USE OF THIS SOFTWARE, EVEN IF ADVISED OF THE POSSIBILITY OF SUCH DAMAGE."
      ]
    },
    {
      "cell_type": "markdown",
      "metadata": {
        "id": "YpvebdWPqBxC"
      },
      "source": [
        "Import all required libraries"
      ]
    },
    {
      "cell_type": "code",
      "metadata": {
        "id": "nLqmrQ8FQbfW",
        "outputId": "db9d97d9-a569-46b8-9d01-ec52a720e136",
        "colab": {
          "base_uri": "https://localhost:8080/",
          "height": 436
        }
      },
      "source": [
        "!pip install pycausalimpact\n",
        "!pip install statsmodels\n",
        "import numpy as np\n",
        "import matplotlib.pyplot as plt\n",
        "import pandas as pd\n",
        "import scipy as sp\n",
        "from scipy.stats import truncnorm\n",
        "import random\n",
        "import math\n",
        "import sys\n",
        "from statsmodels.tsa.arima_process import ArmaProcess\n",
        "from causalimpact import CausalImpact\n",
        "import datetime\n"
      ],
      "execution_count": null,
      "outputs": [
        {
          "output_type": "stream",
          "text": [
            "Requirement already satisfied: pycausalimpact in /usr/local/lib/python3.6/dist-packages (0.1.1)\n",
            "Requirement already satisfied: statsmodels>=0.11.0 in /usr/local/lib/python3.6/dist-packages (from pycausalimpact) (0.12.0)\n",
            "Requirement already satisfied: jinja2>=2.10 in /usr/local/lib/python3.6/dist-packages (from pycausalimpact) (2.11.2)\n",
            "Requirement already satisfied: matplotlib>=2.2.3 in /usr/local/lib/python3.6/dist-packages (from pycausalimpact) (3.2.2)\n",
            "Requirement already satisfied: numpy in /usr/local/lib/python3.6/dist-packages (from pycausalimpact) (1.18.5)\n",
            "Requirement already satisfied: scipy in /usr/local/lib/python3.6/dist-packages (from pycausalimpact) (1.4.1)\n",
            "Requirement already satisfied: patsy>=0.5 in /usr/local/lib/python3.6/dist-packages (from statsmodels>=0.11.0->pycausalimpact) (0.5.1)\n",
            "Requirement already satisfied: pandas>=0.21 in /usr/local/lib/python3.6/dist-packages (from statsmodels>=0.11.0->pycausalimpact) (1.1.2)\n",
            "Requirement already satisfied: MarkupSafe>=0.23 in /usr/local/lib/python3.6/dist-packages (from jinja2>=2.10->pycausalimpact) (1.1.1)\n",
            "Requirement already satisfied: kiwisolver>=1.0.1 in /usr/local/lib/python3.6/dist-packages (from matplotlib>=2.2.3->pycausalimpact) (1.2.0)\n",
            "Requirement already satisfied: python-dateutil>=2.1 in /usr/local/lib/python3.6/dist-packages (from matplotlib>=2.2.3->pycausalimpact) (2.8.1)\n",
            "Requirement already satisfied: pyparsing!=2.0.4,!=2.1.2,!=2.1.6,>=2.0.1 in /usr/local/lib/python3.6/dist-packages (from matplotlib>=2.2.3->pycausalimpact) (2.4.7)\n",
            "Requirement already satisfied: cycler>=0.10 in /usr/local/lib/python3.6/dist-packages (from matplotlib>=2.2.3->pycausalimpact) (0.10.0)\n",
            "Requirement already satisfied: six in /usr/local/lib/python3.6/dist-packages (from patsy>=0.5->statsmodels>=0.11.0->pycausalimpact) (1.15.0)\n",
            "Requirement already satisfied: pytz>=2017.2 in /usr/local/lib/python3.6/dist-packages (from pandas>=0.21->statsmodels>=0.11.0->pycausalimpact) (2018.9)\n",
            "Requirement already satisfied: statsmodels in /usr/local/lib/python3.6/dist-packages (0.12.0)\n",
            "Requirement already satisfied: numpy>=1.15 in /usr/local/lib/python3.6/dist-packages (from statsmodels) (1.18.5)\n",
            "Requirement already satisfied: pandas>=0.21 in /usr/local/lib/python3.6/dist-packages (from statsmodels) (1.1.2)\n",
            "Requirement already satisfied: patsy>=0.5 in /usr/local/lib/python3.6/dist-packages (from statsmodels) (0.5.1)\n",
            "Requirement already satisfied: scipy>=1.1 in /usr/local/lib/python3.6/dist-packages (from statsmodels) (1.4.1)\n",
            "Requirement already satisfied: pytz>=2017.2 in /usr/local/lib/python3.6/dist-packages (from pandas>=0.21->statsmodels) (2018.9)\n",
            "Requirement already satisfied: python-dateutil>=2.7.3 in /usr/local/lib/python3.6/dist-packages (from pandas>=0.21->statsmodels) (2.8.1)\n",
            "Requirement already satisfied: six in /usr/local/lib/python3.6/dist-packages (from patsy>=0.5->statsmodels) (1.15.0)\n"
          ],
          "name": "stdout"
        }
      ]
    },
    {
      "cell_type": "code",
      "metadata": {
        "id": "YLF1i-pYV1zm",
        "outputId": "0c331c79-e0fb-410a-b001-9d5124629c7c",
        "colab": {
          "base_uri": "https://localhost:8080/",
          "height": 54
        }
      },
      "source": [
        "from google.colab import drive\n",
        "drive.mount('/content/gdrive')"
      ],
      "execution_count": null,
      "outputs": [
        {
          "output_type": "stream",
          "text": [
            "Drive already mounted at /content/gdrive; to attempt to forcibly remount, call drive.mount(\"/content/gdrive\", force_remount=True).\n"
          ],
          "name": "stdout"
        }
      ]
    },
    {
      "cell_type": "markdown",
      "metadata": {
        "id": "z8r99IJmRG03"
      },
      "source": [
        "Introduce the file path to the baseline and the information of the number of queries that happened during the TV spots campaign."
      ]
    },
    {
      "cell_type": "code",
      "metadata": {
        "id": "NxtFkcCYRovY",
        "outputId": "089eb4f7-820d-4fbb-e327-d0313d2b099e",
        "colab": {
          "base_uri": "https://localhost:8080/",
          "height": 71
        }
      },
      "source": [
        "baselineFileName=\"/content/gdrive/My Drive/loreal/MX_2020-10-05__14-01_Revitalift_1_data_Loreal_MX_Revitalift_request_id_1_2020-10-05__14-01.csv\"\n",
        "campaignInfoFileName=\"/content/gdrive/My Drive/loreal/MX_2020-10-05__14-01_Revitalift_1_data_Loreal_MX_Revitalift_request_id_1_2020-10-05__14-01.csv\"\n",
        "commercialItinerary=\"/content/gdrive/My Drive/loreal/CORRIDA REVITALIFT AH SERUM OLA 1 TV PAGA.xlsx\"\n",
        "\n",
        "'''\n",
        "Example code to sort the data.  \n",
        "all_data = pd.read_csv(\"all_data.csv\")\n",
        "all_data = all_data.sort_values(['Date', 'Hour']) # This now sorts in date order\n",
        "all_data.to_csv('all_data_sorted.csv', encoding='utf-8')\n",
        "'''\n",
        "\n",
        "'''\n",
        "baselineFileName=\"Name of the file that conains the baseline information\"\n",
        "campaignInfoFileName=\"Name of the file that contains the information of queries that happened in the time of the campaign\"\n",
        "commercialItinerary=\"Name of the file that contains the information of the itinerary of TV spots\"\n",
        "'''\n"
      ],
      "execution_count": null,
      "outputs": [
        {
          "output_type": "execute_result",
          "data": {
            "application/vnd.google.colaboratory.intrinsic+json": {
              "type": "string"
            },
            "text/plain": [
              "'\\nbaselineFileName=\"Name of the file that conains the baseline information\"\\ncampaignInfoFileName=\"Name of the file that contains the information of queries that happened in the time of the campaign\"\\ncommercialItinerary=\"Name of the file that contains the information of the itinerary of TV spots\"\\n'"
            ]
          },
          "metadata": {
            "tags": []
          },
          "execution_count": 36
        }
      ]
    },
    {
      "cell_type": "code",
      "metadata": {
        "id": "OQ6VGWApPOia",
        "outputId": "d815eb8c-3959-43a7-8738-b7b048d072c1",
        "colab": {
          "base_uri": "https://localhost:8080/",
          "height": 206
        }
      },
      "source": [
        "### convertir a columna de fecha y setear el dia de inicio y fin\n",
        "\n",
        "dataBaseLine=pd.read_csv(baselineFileName)\n",
        "dataBaseLine['Date'] = pd.to_datetime(dataBaseLine['Date'],format='%Y-%m-%d')\n",
        "dataBaseLine = dataBaseLine[[\"Date\",\"Hour\",\"num_of_queries\"]]\n",
        "dataBaseLine.head()"
      ],
      "execution_count": null,
      "outputs": [
        {
          "output_type": "execute_result",
          "data": {
            "text/html": [
              "<div>\n",
              "<style scoped>\n",
              "    .dataframe tbody tr th:only-of-type {\n",
              "        vertical-align: middle;\n",
              "    }\n",
              "\n",
              "    .dataframe tbody tr th {\n",
              "        vertical-align: top;\n",
              "    }\n",
              "\n",
              "    .dataframe thead th {\n",
              "        text-align: right;\n",
              "    }\n",
              "</style>\n",
              "<table border=\"1\" class=\"dataframe\">\n",
              "  <thead>\n",
              "    <tr style=\"text-align: right;\">\n",
              "      <th></th>\n",
              "      <th>Date</th>\n",
              "      <th>Hour</th>\n",
              "      <th>num_of_queries</th>\n",
              "    </tr>\n",
              "  </thead>\n",
              "  <tbody>\n",
              "    <tr>\n",
              "      <th>0</th>\n",
              "      <td>2020-07-11</td>\n",
              "      <td>4</td>\n",
              "      <td>0.0024</td>\n",
              "    </tr>\n",
              "    <tr>\n",
              "      <th>1</th>\n",
              "      <td>2020-07-07</td>\n",
              "      <td>22</td>\n",
              "      <td>0.0572</td>\n",
              "    </tr>\n",
              "    <tr>\n",
              "      <th>2</th>\n",
              "      <td>2020-07-31</td>\n",
              "      <td>8</td>\n",
              "      <td>0.0547</td>\n",
              "    </tr>\n",
              "    <tr>\n",
              "      <th>3</th>\n",
              "      <td>2020-07-16</td>\n",
              "      <td>13</td>\n",
              "      <td>0.1194</td>\n",
              "    </tr>\n",
              "    <tr>\n",
              "      <th>4</th>\n",
              "      <td>2020-07-25</td>\n",
              "      <td>21</td>\n",
              "      <td>0.1915</td>\n",
              "    </tr>\n",
              "  </tbody>\n",
              "</table>\n",
              "</div>"
            ],
            "text/plain": [
              "        Date  Hour  num_of_queries\n",
              "0 2020-07-11     4          0.0024\n",
              "1 2020-07-07    22          0.0572\n",
              "2 2020-07-31     8          0.0547\n",
              "3 2020-07-16    13          0.1194\n",
              "4 2020-07-25    21          0.1915"
            ]
          },
          "metadata": {
            "tags": []
          },
          "execution_count": 37
        }
      ]
    },
    {
      "cell_type": "code",
      "metadata": {
        "id": "Cd9T15-qQIcU",
        "outputId": "0bf5581d-73e8-46cb-d270-dc1aef6667b4",
        "colab": {
          "base_uri": "https://localhost:8080/",
          "height": 141
        }
      },
      "source": [
        "start_date = '2020-07-05'\n",
        "end_date = '2020-07-12'\n",
        "\n",
        "filter = (dataBaseLine['Date'] >= start_date) & (dataBaseLine['Date'] <= end_date)\n",
        "dataRealLine = dataBaseLine[filter]\n",
        "dataBaseLine['Date'] = dataBaseLine['Date'].dt.date.astype(str)\n",
        "dataRealLine['Date'] = dataRealLine['Date'].dt.date.astype(str)"
      ],
      "execution_count": null,
      "outputs": [
        {
          "output_type": "stream",
          "text": [
            "/usr/local/lib/python3.6/dist-packages/ipykernel_launcher.py:7: SettingWithCopyWarning: \n",
            "A value is trying to be set on a copy of a slice from a DataFrame.\n",
            "Try using .loc[row_indexer,col_indexer] = value instead\n",
            "\n",
            "See the caveats in the documentation: https://pandas.pydata.org/pandas-docs/stable/user_guide/indexing.html#returning-a-view-versus-a-copy\n",
            "  import sys\n"
          ],
          "name": "stderr"
        }
      ]
    },
    {
      "cell_type": "code",
      "metadata": {
        "id": "pEePrQW_Rfum",
        "outputId": "ecc06984-ec1e-450b-a1fd-410314f4aa38",
        "colab": {
          "base_uri": "https://localhost:8080/",
          "height": 380
        }
      },
      "source": [
        "dataCommercials=pd.read_excel(commercialItinerary) #, encoding = \"ISO-8859-1\"\n",
        "dataCommercials['Date'] = pd.to_datetime(dataCommercials['Date'],format='%Y-%m-%d')\n",
        "dataCommercials['Date'] = dataCommercials['Date'].dt.date\n",
        "dataCommercials.head()"
      ],
      "execution_count": null,
      "outputs": [
        {
          "output_type": "execute_result",
          "data": {
            "text/html": [
              "<div>\n",
              "<style scoped>\n",
              "    .dataframe tbody tr th:only-of-type {\n",
              "        vertical-align: middle;\n",
              "    }\n",
              "\n",
              "    .dataframe tbody tr th {\n",
              "        vertical-align: top;\n",
              "    }\n",
              "\n",
              "    .dataframe thead th {\n",
              "        text-align: right;\n",
              "    }\n",
              "</style>\n",
              "<table border=\"1\" class=\"dataframe\">\n",
              "  <thead>\n",
              "    <tr style=\"text-align: right;\">\n",
              "      <th></th>\n",
              "      <th>Channel</th>\n",
              "      <th>Date</th>\n",
              "      <th>Start Time {Av(Tm)}</th>\n",
              "      <th>Master Program</th>\n",
              "      <th>Length {Sum}</th>\n",
              "      <th>Description</th>\n",
              "      <th>Fringe</th>\n",
              "      <th>Position</th>\n",
              "      <th>Rch# Target Ibope</th>\n",
              "      <th>Rch# Target nacional</th>\n",
              "      <th>Costo por spot</th>\n",
              "    </tr>\n",
              "  </thead>\n",
              "  <tbody>\n",
              "    <tr>\n",
              "      <th>0</th>\n",
              "      <td>TLNOVELAS IZZI</td>\n",
              "      <td>2020-07-13</td>\n",
              "      <td>14:16:27</td>\n",
              "      <td>n.a</td>\n",
              "      <td>00:00:20</td>\n",
              "      <td>SRA ACIDO NVO HIDRAT 20S</td>\n",
              "      <td>AA</td>\n",
              "      <td>CUALQUIER OTRA POSICION</td>\n",
              "      <td>0.0</td>\n",
              "      <td>0.0</td>\n",
              "      <td>618.82</td>\n",
              "    </tr>\n",
              "    <tr>\n",
              "      <th>1</th>\n",
              "      <td>TLNOVELAS IZZI</td>\n",
              "      <td>2020-07-13</td>\n",
              "      <td>15:09:23</td>\n",
              "      <td>n.a</td>\n",
              "      <td>00:00:20</td>\n",
              "      <td>SRA ACIDO NVO HIDRAT 20S</td>\n",
              "      <td>AA</td>\n",
              "      <td>CUALQUIER OTRA POSICION</td>\n",
              "      <td>0.0</td>\n",
              "      <td>0.0</td>\n",
              "      <td>618.82</td>\n",
              "    </tr>\n",
              "    <tr>\n",
              "      <th>2</th>\n",
              "      <td>TLNOVELAS IZZI</td>\n",
              "      <td>2020-07-13</td>\n",
              "      <td>16:45:25</td>\n",
              "      <td>n.a</td>\n",
              "      <td>00:00:20</td>\n",
              "      <td>SRA ACIDO NVO HIDRAT 20S</td>\n",
              "      <td>AA</td>\n",
              "      <td>SEGUNDA POSICION</td>\n",
              "      <td>0.0</td>\n",
              "      <td>0.0</td>\n",
              "      <td>618.82</td>\n",
              "    </tr>\n",
              "    <tr>\n",
              "      <th>3</th>\n",
              "      <td>TLNOVELAS IZZI</td>\n",
              "      <td>2020-07-13</td>\n",
              "      <td>17:40:26</td>\n",
              "      <td>n.a</td>\n",
              "      <td>00:00:20</td>\n",
              "      <td>SRA ACIDO NVO HIDRAT 20S</td>\n",
              "      <td>AA</td>\n",
              "      <td>TERCERA POSICION</td>\n",
              "      <td>0.0</td>\n",
              "      <td>0.0</td>\n",
              "      <td>618.82</td>\n",
              "    </tr>\n",
              "    <tr>\n",
              "      <th>4</th>\n",
              "      <td>DE PELICULA IZZI</td>\n",
              "      <td>2020-07-13</td>\n",
              "      <td>13:58:24</td>\n",
              "      <td>n.a</td>\n",
              "      <td>00:00:20</td>\n",
              "      <td>SRA ACIDO NVO HIDRAT 20S</td>\n",
              "      <td>AA</td>\n",
              "      <td>ULTIMA POSICION</td>\n",
              "      <td>0.0</td>\n",
              "      <td>0.0</td>\n",
              "      <td>618.82</td>\n",
              "    </tr>\n",
              "  </tbody>\n",
              "</table>\n",
              "</div>"
            ],
            "text/plain": [
              "            Channel        Date  ... Rch# Target nacional Costo por spot\n",
              "0    TLNOVELAS IZZI  2020-07-13  ...                  0.0         618.82\n",
              "1    TLNOVELAS IZZI  2020-07-13  ...                  0.0         618.82\n",
              "2    TLNOVELAS IZZI  2020-07-13  ...                  0.0         618.82\n",
              "3    TLNOVELAS IZZI  2020-07-13  ...                  0.0         618.82\n",
              "4  DE PELICULA IZZI  2020-07-13  ...                  0.0         618.82\n",
              "\n",
              "[5 rows x 11 columns]"
            ]
          },
          "metadata": {
            "tags": []
          },
          "execution_count": 39
        }
      ]
    },
    {
      "cell_type": "code",
      "metadata": {
        "id": "6eKorCIvSWDf",
        "outputId": "b82f3c89-95e6-47bd-e592-df9ec747c89b",
        "colab": {
          "base_uri": "https://localhost:8080/",
          "height": 86
        }
      },
      "source": [
        "dataCommercials.columns"
      ],
      "execution_count": null,
      "outputs": [
        {
          "output_type": "execute_result",
          "data": {
            "text/plain": [
              "Index(['Channel', 'Date', 'Start Time {Av(Tm)}', 'Master Program',\n",
              "       'Length {Sum}', 'Description', 'Fringe', 'Position',\n",
              "       'Rch# Target Ibope', 'Rch# Target nacional', 'Costo por spot'],\n",
              "      dtype='object')"
            ]
          },
          "metadata": {
            "tags": []
          },
          "execution_count": 40
        }
      ]
    },
    {
      "cell_type": "code",
      "metadata": {
        "id": "6oQcW00aRPVQ",
        "outputId": "1ce06bbd-a185-463c-d885-43227a15f07e",
        "colab": {
          "base_uri": "https://localhost:8080/",
          "height": 34
        }
      },
      "source": [
        "#dataBaseLine=pd.read_csv(baselineFileName) #Raw information from baseline\n",
        "#dataRealLine=pd.read_csv(campaignInfoFileName) #Raw information from dates of the campaign\n",
        "#dataCommercials=pd.read_csv(commercialItinerary, encoding = \"ISO-8859-1\")\n",
        "\n",
        "dataBaseLine.columns=[\"Date\",\"Hour\",\"num_of_queries\"]\n",
        "dataRealLine.columns=[\"Date\",\"Hour\",\"num_of_queries\"]\n",
        "dataCommercials.columns=[\"Channel\",\"Date\",\"Start Time\",\"Master Program\",\"Length\",\"Description\",\"Fringe\",\"Position\",\"Rch Target Ibope\", \"Rch Target nacional\",\"Costo por spot\"]\n",
        "\n",
        "'''\n",
        "dataBaseLine.columns=[\"request_id\",\"Date\",\"Hour\",\"num_of_queries\"]\n",
        "dataRealLine.columns=[\"request_id\",\"Date\",\"Hour\",\"num_of_queries\"]\n",
        "'''\n",
        "\n",
        "print(\"Raw data Assigned\")\n",
        "\n"
      ],
      "execution_count": null,
      "outputs": [
        {
          "output_type": "stream",
          "text": [
            "Raw data Assigned\n"
          ],
          "name": "stdout"
        }
      ]
    },
    {
      "cell_type": "code",
      "metadata": {
        "id": "mvbqX0hRngHE",
        "outputId": "20d6127a-cc2b-492d-eb30-04587ee9cb45",
        "colab": {
          "base_uri": "https://localhost:8080/",
          "height": 282
        }
      },
      "source": [
        "dataBaseLine[\"num_of_queries\"][0:23].plot()"
      ],
      "execution_count": null,
      "outputs": [
        {
          "output_type": "execute_result",
          "data": {
            "text/plain": [
              "<matplotlib.axes._subplots.AxesSubplot at 0x7fce4eb6a2e8>"
            ]
          },
          "metadata": {
            "tags": []
          },
          "execution_count": 42
        },
        {
          "output_type": "display_data",
          "data": {
            "image/png": "[encoded data removed]",
            "text/plain": [
              "<Figure size 432x288 with 1 Axes>"
            ]
          },
          "metadata": {
            "tags": [],
            "needs_background": "light"
          }
        }
      ]
    },
    {
      "cell_type": "code",
      "metadata": {
        "id": "u7ba1ZnyVxYC",
        "outputId": "9e6ede7d-091a-4d5d-ed1f-a75b72fa789b",
        "colab": {
          "base_uri": "https://localhost:8080/",
          "height": 282
        }
      },
      "source": [
        "dataRealLine[\"num_of_queries\"][24:47].plot()"
      ],
      "execution_count": null,
      "outputs": [
        {
          "output_type": "execute_result",
          "data": {
            "text/plain": [
              "<matplotlib.axes._subplots.AxesSubplot at 0x7fce4f6e5780>"
            ]
          },
          "metadata": {
            "tags": []
          },
          "execution_count": 43
        },
        {
          "output_type": "display_data",
          "data": {
            "image/png": "[encoded data removed]",
            "text/plain": [
              "<Figure size 432x288 with 1 Axes>"
            ]
          },
          "metadata": {
            "tags": [],
            "needs_background": "light"
          }
        }
      ]
    },
    {
      "cell_type": "code",
      "metadata": {
        "id": "tnpQajajg_0c",
        "outputId": "7b71dd45-5687-4bfa-efa6-a405151d2199",
        "colab": {
          "base_uri": "https://localhost:8080/",
          "height": 424
        }
      },
      "source": [
        "dataBaseLine # Execute to preview data"
      ],
      "execution_count": null,
      "outputs": [
        {
          "output_type": "execute_result",
          "data": {
            "text/html": [
              "<div>\n",
              "<style scoped>\n",
              "    .dataframe tbody tr th:only-of-type {\n",
              "        vertical-align: middle;\n",
              "    }\n",
              "\n",
              "    .dataframe tbody tr th {\n",
              "        vertical-align: top;\n",
              "    }\n",
              "\n",
              "    .dataframe thead th {\n",
              "        text-align: right;\n",
              "    }\n",
              "</style>\n",
              "<table border=\"1\" class=\"dataframe\">\n",
              "  <thead>\n",
              "    <tr style=\"text-align: right;\">\n",
              "      <th></th>\n",
              "      <th>Date</th>\n",
              "      <th>Hour</th>\n",
              "      <th>num_of_queries</th>\n",
              "    </tr>\n",
              "  </thead>\n",
              "  <tbody>\n",
              "    <tr>\n",
              "      <th>0</th>\n",
              "      <td>2020-07-11</td>\n",
              "      <td>4</td>\n",
              "      <td>0.0024</td>\n",
              "    </tr>\n",
              "    <tr>\n",
              "      <th>1</th>\n",
              "      <td>2020-07-07</td>\n",
              "      <td>22</td>\n",
              "      <td>0.0572</td>\n",
              "    </tr>\n",
              "    <tr>\n",
              "      <th>2</th>\n",
              "      <td>2020-07-31</td>\n",
              "      <td>8</td>\n",
              "      <td>0.0547</td>\n",
              "    </tr>\n",
              "    <tr>\n",
              "      <th>3</th>\n",
              "      <td>2020-07-16</td>\n",
              "      <td>13</td>\n",
              "      <td>0.1194</td>\n",
              "    </tr>\n",
              "    <tr>\n",
              "      <th>4</th>\n",
              "      <td>2020-07-25</td>\n",
              "      <td>21</td>\n",
              "      <td>0.1915</td>\n",
              "    </tr>\n",
              "    <tr>\n",
              "      <th>...</th>\n",
              "      <td>...</td>\n",
              "      <td>...</td>\n",
              "      <td>...</td>\n",
              "    </tr>\n",
              "    <tr>\n",
              "      <th>2227</th>\n",
              "      <td>2020-08-12</td>\n",
              "      <td>20</td>\n",
              "      <td>0.1243</td>\n",
              "    </tr>\n",
              "    <tr>\n",
              "      <th>2228</th>\n",
              "      <td>2020-08-19</td>\n",
              "      <td>14</td>\n",
              "      <td>0.0746</td>\n",
              "    </tr>\n",
              "    <tr>\n",
              "      <th>2229</th>\n",
              "      <td>2020-09-01</td>\n",
              "      <td>2</td>\n",
              "      <td>0.0074</td>\n",
              "    </tr>\n",
              "    <tr>\n",
              "      <th>2230</th>\n",
              "      <td>2020-09-08</td>\n",
              "      <td>12</td>\n",
              "      <td>0.0895</td>\n",
              "    </tr>\n",
              "    <tr>\n",
              "      <th>2231</th>\n",
              "      <td>2020-09-13</td>\n",
              "      <td>16</td>\n",
              "      <td>0.2512</td>\n",
              "    </tr>\n",
              "  </tbody>\n",
              "</table>\n",
              "<p>2232 rows × 3 columns</p>\n",
              "</div>"
            ],
            "text/plain": [
              "            Date  Hour  num_of_queries\n",
              "0     2020-07-11     4          0.0024\n",
              "1     2020-07-07    22          0.0572\n",
              "2     2020-07-31     8          0.0547\n",
              "3     2020-07-16    13          0.1194\n",
              "4     2020-07-25    21          0.1915\n",
              "...          ...   ...             ...\n",
              "2227  2020-08-12    20          0.1243\n",
              "2228  2020-08-19    14          0.0746\n",
              "2229  2020-09-01     2          0.0074\n",
              "2230  2020-09-08    12          0.0895\n",
              "2231  2020-09-13    16          0.2512\n",
              "\n",
              "[2232 rows x 3 columns]"
            ]
          },
          "metadata": {
            "tags": []
          },
          "execution_count": 44
        }
      ]
    },
    {
      "cell_type": "code",
      "metadata": {
        "id": "RbF8zTbIhDxD",
        "outputId": "860df3c1-f710-4551-9698-90a8746591c3",
        "colab": {
          "base_uri": "https://localhost:8080/",
          "height": 424
        }
      },
      "source": [
        "dataRealLine # Execute to preview data"
      ],
      "execution_count": null,
      "outputs": [
        {
          "output_type": "execute_result",
          "data": {
            "text/html": [
              "<div>\n",
              "<style scoped>\n",
              "    .dataframe tbody tr th:only-of-type {\n",
              "        vertical-align: middle;\n",
              "    }\n",
              "\n",
              "    .dataframe tbody tr th {\n",
              "        vertical-align: top;\n",
              "    }\n",
              "\n",
              "    .dataframe thead th {\n",
              "        text-align: right;\n",
              "    }\n",
              "</style>\n",
              "<table border=\"1\" class=\"dataframe\">\n",
              "  <thead>\n",
              "    <tr style=\"text-align: right;\">\n",
              "      <th></th>\n",
              "      <th>Date</th>\n",
              "      <th>Hour</th>\n",
              "      <th>num_of_queries</th>\n",
              "    </tr>\n",
              "  </thead>\n",
              "  <tbody>\n",
              "    <tr>\n",
              "      <th>0</th>\n",
              "      <td>2020-07-11</td>\n",
              "      <td>4</td>\n",
              "      <td>0.0024</td>\n",
              "    </tr>\n",
              "    <tr>\n",
              "      <th>1</th>\n",
              "      <td>2020-07-07</td>\n",
              "      <td>22</td>\n",
              "      <td>0.0572</td>\n",
              "    </tr>\n",
              "    <tr>\n",
              "      <th>21</th>\n",
              "      <td>2020-07-12</td>\n",
              "      <td>15</td>\n",
              "      <td>0.0298</td>\n",
              "    </tr>\n",
              "    <tr>\n",
              "      <th>56</th>\n",
              "      <td>2020-07-08</td>\n",
              "      <td>9</td>\n",
              "      <td>0.0572</td>\n",
              "    </tr>\n",
              "    <tr>\n",
              "      <th>58</th>\n",
              "      <td>2020-07-11</td>\n",
              "      <td>15</td>\n",
              "      <td>0.0547</td>\n",
              "    </tr>\n",
              "    <tr>\n",
              "      <th>...</th>\n",
              "      <td>...</td>\n",
              "      <td>...</td>\n",
              "      <td>...</td>\n",
              "    </tr>\n",
              "    <tr>\n",
              "      <th>2173</th>\n",
              "      <td>2020-07-07</td>\n",
              "      <td>4</td>\n",
              "      <td>0.0024</td>\n",
              "    </tr>\n",
              "    <tr>\n",
              "      <th>2174</th>\n",
              "      <td>2020-07-07</td>\n",
              "      <td>2</td>\n",
              "      <td>0.0024</td>\n",
              "    </tr>\n",
              "    <tr>\n",
              "      <th>2195</th>\n",
              "      <td>2020-07-10</td>\n",
              "      <td>21</td>\n",
              "      <td>0.0820</td>\n",
              "    </tr>\n",
              "    <tr>\n",
              "      <th>2215</th>\n",
              "      <td>2020-07-08</td>\n",
              "      <td>14</td>\n",
              "      <td>0.0497</td>\n",
              "    </tr>\n",
              "    <tr>\n",
              "      <th>2225</th>\n",
              "      <td>2020-07-08</td>\n",
              "      <td>5</td>\n",
              "      <td>0.0049</td>\n",
              "    </tr>\n",
              "  </tbody>\n",
              "</table>\n",
              "<p>192 rows × 3 columns</p>\n",
              "</div>"
            ],
            "text/plain": [
              "            Date  Hour  num_of_queries\n",
              "0     2020-07-11     4          0.0024\n",
              "1     2020-07-07    22          0.0572\n",
              "21    2020-07-12    15          0.0298\n",
              "56    2020-07-08     9          0.0572\n",
              "58    2020-07-11    15          0.0547\n",
              "...          ...   ...             ...\n",
              "2173  2020-07-07     4          0.0024\n",
              "2174  2020-07-07     2          0.0024\n",
              "2195  2020-07-10    21          0.0820\n",
              "2215  2020-07-08    14          0.0497\n",
              "2225  2020-07-08     5          0.0049\n",
              "\n",
              "[192 rows x 3 columns]"
            ]
          },
          "metadata": {
            "tags": []
          },
          "execution_count": 45
        }
      ]
    },
    {
      "cell_type": "code",
      "metadata": {
        "id": "In62NFdhgHg9",
        "outputId": "49013bc2-3594-48e5-c97d-2933d7f62b8e",
        "colab": {
          "base_uri": "https://localhost:8080/",
          "height": 771
        }
      },
      "source": [
        "dataCommercials # Execute to preview data"
      ],
      "execution_count": null,
      "outputs": [
        {
          "output_type": "execute_result",
          "data": {
            "text/html": [
              "<div>\n",
              "<style scoped>\n",
              "    .dataframe tbody tr th:only-of-type {\n",
              "        vertical-align: middle;\n",
              "    }\n",
              "\n",
              "    .dataframe tbody tr th {\n",
              "        vertical-align: top;\n",
              "    }\n",
              "\n",
              "    .dataframe thead th {\n",
              "        text-align: right;\n",
              "    }\n",
              "</style>\n",
              "<table border=\"1\" class=\"dataframe\">\n",
              "  <thead>\n",
              "    <tr style=\"text-align: right;\">\n",
              "      <th></th>\n",
              "      <th>Channel</th>\n",
              "      <th>Date</th>\n",
              "      <th>Start Time</th>\n",
              "      <th>Master Program</th>\n",
              "      <th>Length</th>\n",
              "      <th>Description</th>\n",
              "      <th>Fringe</th>\n",
              "      <th>Position</th>\n",
              "      <th>Rch Target Ibope</th>\n",
              "      <th>Rch Target nacional</th>\n",
              "      <th>Costo por spot</th>\n",
              "    </tr>\n",
              "  </thead>\n",
              "  <tbody>\n",
              "    <tr>\n",
              "      <th>0</th>\n",
              "      <td>TLNOVELAS IZZI</td>\n",
              "      <td>2020-07-13</td>\n",
              "      <td>14:16:27</td>\n",
              "      <td>n.a</td>\n",
              "      <td>00:00:20</td>\n",
              "      <td>SRA ACIDO NVO HIDRAT 20S</td>\n",
              "      <td>AA</td>\n",
              "      <td>CUALQUIER OTRA POSICION</td>\n",
              "      <td>0.00</td>\n",
              "      <td>0.0</td>\n",
              "      <td>6.188200e+02</td>\n",
              "    </tr>\n",
              "    <tr>\n",
              "      <th>1</th>\n",
              "      <td>TLNOVELAS IZZI</td>\n",
              "      <td>2020-07-13</td>\n",
              "      <td>15:09:23</td>\n",
              "      <td>n.a</td>\n",
              "      <td>00:00:20</td>\n",
              "      <td>SRA ACIDO NVO HIDRAT 20S</td>\n",
              "      <td>AA</td>\n",
              "      <td>CUALQUIER OTRA POSICION</td>\n",
              "      <td>0.00</td>\n",
              "      <td>0.0</td>\n",
              "      <td>6.188200e+02</td>\n",
              "    </tr>\n",
              "    <tr>\n",
              "      <th>2</th>\n",
              "      <td>TLNOVELAS IZZI</td>\n",
              "      <td>2020-07-13</td>\n",
              "      <td>16:45:25</td>\n",
              "      <td>n.a</td>\n",
              "      <td>00:00:20</td>\n",
              "      <td>SRA ACIDO NVO HIDRAT 20S</td>\n",
              "      <td>AA</td>\n",
              "      <td>SEGUNDA POSICION</td>\n",
              "      <td>0.00</td>\n",
              "      <td>0.0</td>\n",
              "      <td>6.188200e+02</td>\n",
              "    </tr>\n",
              "    <tr>\n",
              "      <th>3</th>\n",
              "      <td>TLNOVELAS IZZI</td>\n",
              "      <td>2020-07-13</td>\n",
              "      <td>17:40:26</td>\n",
              "      <td>n.a</td>\n",
              "      <td>00:00:20</td>\n",
              "      <td>SRA ACIDO NVO HIDRAT 20S</td>\n",
              "      <td>AA</td>\n",
              "      <td>TERCERA POSICION</td>\n",
              "      <td>0.00</td>\n",
              "      <td>0.0</td>\n",
              "      <td>6.188200e+02</td>\n",
              "    </tr>\n",
              "    <tr>\n",
              "      <th>4</th>\n",
              "      <td>DE PELICULA IZZI</td>\n",
              "      <td>2020-07-13</td>\n",
              "      <td>13:58:24</td>\n",
              "      <td>n.a</td>\n",
              "      <td>00:00:20</td>\n",
              "      <td>SRA ACIDO NVO HIDRAT 20S</td>\n",
              "      <td>AA</td>\n",
              "      <td>ULTIMA POSICION</td>\n",
              "      <td>0.00</td>\n",
              "      <td>0.0</td>\n",
              "      <td>6.188200e+02</td>\n",
              "    </tr>\n",
              "    <tr>\n",
              "      <th>...</th>\n",
              "      <td>...</td>\n",
              "      <td>...</td>\n",
              "      <td>...</td>\n",
              "      <td>...</td>\n",
              "      <td>...</td>\n",
              "      <td>...</td>\n",
              "      <td>...</td>\n",
              "      <td>...</td>\n",
              "      <td>...</td>\n",
              "      <td>...</td>\n",
              "      <td>...</td>\n",
              "    </tr>\n",
              "    <tr>\n",
              "      <th>945</th>\n",
              "      <td>DISTRITO COMEDIA IZZI</td>\n",
              "      <td>2020-08-09</td>\n",
              "      <td>16:04:15</td>\n",
              "      <td>n.a</td>\n",
              "      <td>00:00:20</td>\n",
              "      <td>SRA ACIDO NVO HIDRAT 20S</td>\n",
              "      <td>AA</td>\n",
              "      <td>ULTIMA POSICION</td>\n",
              "      <td>2613.44</td>\n",
              "      <td>0.0</td>\n",
              "      <td>6.188200e+02</td>\n",
              "    </tr>\n",
              "    <tr>\n",
              "      <th>946</th>\n",
              "      <td>TELEMUNDO IZZI</td>\n",
              "      <td>2020-08-09</td>\n",
              "      <td>09:51:58</td>\n",
              "      <td>n.a</td>\n",
              "      <td>00:00:20</td>\n",
              "      <td>SRA ACIDO NVO HIDRAT 20S</td>\n",
              "      <td>A</td>\n",
              "      <td>PRIMERA POSICION</td>\n",
              "      <td>2613.44</td>\n",
              "      <td>0.0</td>\n",
              "      <td>2.800000e+03</td>\n",
              "    </tr>\n",
              "    <tr>\n",
              "      <th>947</th>\n",
              "      <td>TELEMUNDO IZZI</td>\n",
              "      <td>2020-08-09</td>\n",
              "      <td>12:12:00</td>\n",
              "      <td>n.a</td>\n",
              "      <td>00:00:20</td>\n",
              "      <td>SRA ACIDO NVO HIDRAT 20S</td>\n",
              "      <td>AA</td>\n",
              "      <td>PRIMERA POSICION</td>\n",
              "      <td>2613.44</td>\n",
              "      <td>0.0</td>\n",
              "      <td>2.800000e+03</td>\n",
              "    </tr>\n",
              "    <tr>\n",
              "      <th>948</th>\n",
              "      <td>TELEMUNDO IZZI</td>\n",
              "      <td>2020-08-09</td>\n",
              "      <td>18:12:42</td>\n",
              "      <td>n.a</td>\n",
              "      <td>00:00:20</td>\n",
              "      <td>SRA ACIDO NVO HIDRAT 20S</td>\n",
              "      <td>AA</td>\n",
              "      <td>PRIMERA POSICION</td>\n",
              "      <td>2613.44</td>\n",
              "      <td>0.0</td>\n",
              "      <td>4.400000e+03</td>\n",
              "    </tr>\n",
              "    <tr>\n",
              "      <th>949</th>\n",
              "      <td>NaN</td>\n",
              "      <td>NaT</td>\n",
              "      <td>16:34:57</td>\n",
              "      <td>NaN</td>\n",
              "      <td>10:28:38</td>\n",
              "      <td>NaN</td>\n",
              "      <td>NaN</td>\n",
              "      <td>NaN</td>\n",
              "      <td>2613.44</td>\n",
              "      <td>NaN</td>\n",
              "      <td>2.114271e+06</td>\n",
              "    </tr>\n",
              "  </tbody>\n",
              "</table>\n",
              "<p>950 rows × 11 columns</p>\n",
              "</div>"
            ],
            "text/plain": [
              "                   Channel        Date  ... Rch Target nacional Costo por spot\n",
              "0           TLNOVELAS IZZI  2020-07-13  ...                 0.0   6.188200e+02\n",
              "1           TLNOVELAS IZZI  2020-07-13  ...                 0.0   6.188200e+02\n",
              "2           TLNOVELAS IZZI  2020-07-13  ...                 0.0   6.188200e+02\n",
              "3           TLNOVELAS IZZI  2020-07-13  ...                 0.0   6.188200e+02\n",
              "4         DE PELICULA IZZI  2020-07-13  ...                 0.0   6.188200e+02\n",
              "..                     ...         ...  ...                 ...            ...\n",
              "945  DISTRITO COMEDIA IZZI  2020-08-09  ...                 0.0   6.188200e+02\n",
              "946         TELEMUNDO IZZI  2020-08-09  ...                 0.0   2.800000e+03\n",
              "947         TELEMUNDO IZZI  2020-08-09  ...                 0.0   2.800000e+03\n",
              "948         TELEMUNDO IZZI  2020-08-09  ...                 0.0   4.400000e+03\n",
              "949                    NaN         NaT  ...                 NaN   2.114271e+06\n",
              "\n",
              "[950 rows x 11 columns]"
            ]
          },
          "metadata": {
            "tags": []
          },
          "execution_count": 46
        }
      ]
    },
    {
      "cell_type": "code",
      "metadata": {
        "id": "giujTKhrTOPY",
        "outputId": "eb47d3a9-26a1-47ea-8862-c4648b6b81fb",
        "colab": {
          "base_uri": "https://localhost:8080/",
          "height": 675
        }
      },
      "source": [
        "for column in dataCommercials.columns:\n",
        "  dataCommercials[column] = dataCommercials[column].astype(str)\n",
        "dataCommercials.info()\n",
        "\n",
        "dataCommercials['Start Time'] = dataCommercials['Start Time'].str.replace('1900-01-01 ','')\n",
        "dataCommercials['Start Time'] = dataCommercials['Start Time'].str.split(':')#.str[:-1]\n",
        "dataCommercials['Start Time'] = dataCommercials['Start Time'].apply(lambda x: ':'.join(x)).astype(str)\n",
        "dataCommercials.head()"
      ],
      "execution_count": null,
      "outputs": [
        {
          "output_type": "stream",
          "text": [
            "<class 'pandas.core.frame.DataFrame'>\n",
            "RangeIndex: 950 entries, 0 to 949\n",
            "Data columns (total 11 columns):\n",
            " #   Column               Non-Null Count  Dtype \n",
            "---  ------               --------------  ----- \n",
            " 0   Channel              950 non-null    object\n",
            " 1   Date                 950 non-null    object\n",
            " 2   Start Time           950 non-null    object\n",
            " 3   Master Program       950 non-null    object\n",
            " 4   Length               950 non-null    object\n",
            " 5   Description          950 non-null    object\n",
            " 6   Fringe               950 non-null    object\n",
            " 7   Position             950 non-null    object\n",
            " 8   Rch Target Ibope     950 non-null    object\n",
            " 9   Rch Target nacional  950 non-null    object\n",
            " 10  Costo por spot       950 non-null    object\n",
            "dtypes: object(11)\n",
            "memory usage: 81.8+ KB\n"
          ],
          "name": "stdout"
        },
        {
          "output_type": "execute_result",
          "data": {
            "text/html": [
              "<div>\n",
              "<style scoped>\n",
              "    .dataframe tbody tr th:only-of-type {\n",
              "        vertical-align: middle;\n",
              "    }\n",
              "\n",
              "    .dataframe tbody tr th {\n",
              "        vertical-align: top;\n",
              "    }\n",
              "\n",
              "    .dataframe thead th {\n",
              "        text-align: right;\n",
              "    }\n",
              "</style>\n",
              "<table border=\"1\" class=\"dataframe\">\n",
              "  <thead>\n",
              "    <tr style=\"text-align: right;\">\n",
              "      <th></th>\n",
              "      <th>Channel</th>\n",
              "      <th>Date</th>\n",
              "      <th>Start Time</th>\n",
              "      <th>Master Program</th>\n",
              "      <th>Length</th>\n",
              "      <th>Description</th>\n",
              "      <th>Fringe</th>\n",
              "      <th>Position</th>\n",
              "      <th>Rch Target Ibope</th>\n",
              "      <th>Rch Target nacional</th>\n",
              "      <th>Costo por spot</th>\n",
              "    </tr>\n",
              "  </thead>\n",
              "  <tbody>\n",
              "    <tr>\n",
              "      <th>0</th>\n",
              "      <td>TLNOVELAS IZZI</td>\n",
              "      <td>2020-07-13</td>\n",
              "      <td>14:16:27</td>\n",
              "      <td>n.a</td>\n",
              "      <td>00:00:20</td>\n",
              "      <td>SRA ACIDO NVO HIDRAT 20S</td>\n",
              "      <td>AA</td>\n",
              "      <td>CUALQUIER OTRA POSICION</td>\n",
              "      <td>0.0</td>\n",
              "      <td>0.0</td>\n",
              "      <td>618.82</td>\n",
              "    </tr>\n",
              "    <tr>\n",
              "      <th>1</th>\n",
              "      <td>TLNOVELAS IZZI</td>\n",
              "      <td>2020-07-13</td>\n",
              "      <td>15:09:23</td>\n",
              "      <td>n.a</td>\n",
              "      <td>00:00:20</td>\n",
              "      <td>SRA ACIDO NVO HIDRAT 20S</td>\n",
              "      <td>AA</td>\n",
              "      <td>CUALQUIER OTRA POSICION</td>\n",
              "      <td>0.0</td>\n",
              "      <td>0.0</td>\n",
              "      <td>618.82</td>\n",
              "    </tr>\n",
              "    <tr>\n",
              "      <th>2</th>\n",
              "      <td>TLNOVELAS IZZI</td>\n",
              "      <td>2020-07-13</td>\n",
              "      <td>16:45:25</td>\n",
              "      <td>n.a</td>\n",
              "      <td>00:00:20</td>\n",
              "      <td>SRA ACIDO NVO HIDRAT 20S</td>\n",
              "      <td>AA</td>\n",
              "      <td>SEGUNDA POSICION</td>\n",
              "      <td>0.0</td>\n",
              "      <td>0.0</td>\n",
              "      <td>618.82</td>\n",
              "    </tr>\n",
              "    <tr>\n",
              "      <th>3</th>\n",
              "      <td>TLNOVELAS IZZI</td>\n",
              "      <td>2020-07-13</td>\n",
              "      <td>17:40:26</td>\n",
              "      <td>n.a</td>\n",
              "      <td>00:00:20</td>\n",
              "      <td>SRA ACIDO NVO HIDRAT 20S</td>\n",
              "      <td>AA</td>\n",
              "      <td>TERCERA POSICION</td>\n",
              "      <td>0.0</td>\n",
              "      <td>0.0</td>\n",
              "      <td>618.82</td>\n",
              "    </tr>\n",
              "    <tr>\n",
              "      <th>4</th>\n",
              "      <td>DE PELICULA IZZI</td>\n",
              "      <td>2020-07-13</td>\n",
              "      <td>13:58:24</td>\n",
              "      <td>n.a</td>\n",
              "      <td>00:00:20</td>\n",
              "      <td>SRA ACIDO NVO HIDRAT 20S</td>\n",
              "      <td>AA</td>\n",
              "      <td>ULTIMA POSICION</td>\n",
              "      <td>0.0</td>\n",
              "      <td>0.0</td>\n",
              "      <td>618.82</td>\n",
              "    </tr>\n",
              "  </tbody>\n",
              "</table>\n",
              "</div>"
            ],
            "text/plain": [
              "            Channel        Date  ... Rch Target nacional Costo por spot\n",
              "0    TLNOVELAS IZZI  2020-07-13  ...                 0.0         618.82\n",
              "1    TLNOVELAS IZZI  2020-07-13  ...                 0.0         618.82\n",
              "2    TLNOVELAS IZZI  2020-07-13  ...                 0.0         618.82\n",
              "3    TLNOVELAS IZZI  2020-07-13  ...                 0.0         618.82\n",
              "4  DE PELICULA IZZI  2020-07-13  ...                 0.0         618.82\n",
              "\n",
              "[5 rows x 11 columns]"
            ]
          },
          "metadata": {
            "tags": []
          },
          "execution_count": 47
        }
      ]
    },
    {
      "cell_type": "code",
      "metadata": {
        "id": "icE0Os09U0GL"
      },
      "source": [
        "#Input validation the columns and column types should be in an strict format\n",
        "\n",
        "if(len(dataBaseLine)<24):\n",
        "  raise Exception(\"The number of rows for the baseline information should have at least 24 elements\")\n",
        "\n",
        "if(len(dataRealLine)<24):\n",
        "  raise Exception(\"The number of rows for the information of the campaign should have at least 24 elements\")\n",
        "\n",
        "if(len(dataCommercials)<10):\n",
        "  raise Exception(\"The number of rows for the itinerary information should have at least 10 elements\")\n",
        "\n",
        "\n",
        "if(len(dataBaseLine.columns)!=3):\n",
        "  raise Exception(\"The baseline information should have only 3 columns\")\n",
        "if(len(dataRealLine.columns)!=3):\n",
        "  raise Exception(\"The baseline information should have only 3 columns\")\n",
        "dataBaseLineTypes=dataBaseLine.dtypes\n",
        "dataRealLineTypes=dataRealLine.dtypes\n",
        "\n",
        "\n",
        "#if(not(dataBaseLineTypes[\"Date\"]==np.object and dataBaseLineTypes[\"Hour\"]==np.int64 and dataBaseLineTypes[\"num_of_queries\"]==np.int64)):\n",
        "#  raise Exception(\"The baseline information should have [String,String,Float] data types\")\n",
        "\n",
        "#if(not(dataRealLineTypes[\"Date\"]==np.object and dataRealLineTypes[\"Hour\"]==np.int64 and dataRealLineTypes[\"num_of_queries\"]==np.int64)):\n",
        "#  raise Exception(\"The baseline information should have [String,String,Float] data types\")\n",
        "\n",
        "'''\n",
        "if(not(dataBaseLineTypes[\"request_id\"]==np.object and dataBaseLineTypes[\"Date\"]==np.object and dataBaseLineTypes[\"Hour\"]==np.int64 and dataBaseLineTypes[\"num_of_queries\"]==np.float64)):\n",
        "  raise Exception(\"The baseline information should have [String,String,String,Float] data types\")\n",
        "\n",
        "if(not(dataRealLineTypes[\"request_id\"]==np.object and dataRealLineTypes[\"Date\"]==np.object and dataRealLineTypes[\"Hour\"]==np.int64 and dataRealLineTypes[\"num_of_queries\"]==np.float64)):\n",
        "  raise Exception(\"The baseline information should have [String,String,String,Float] data types\")\n",
        "'''\n",
        "\n",
        "if(len(dataCommercials.columns) != 11): \n",
        "    raise Exception(\"The commercial information should have only 12 columns\") \n",
        "\n",
        "\n",
        "dataCommercialTypes = dataCommercials.dtypes\n",
        "\n",
        "if(not(dataCommercialTypes[\"Channel\"] == np.object and dataCommercialTypes[\"Date\"] == np.object and dataCommercialTypes[\"Start Time\"] == np.object and dataCommercialTypes[\"Master Program\"] == np.object and dataCommercialTypes[\"Length\"] == np.object and dataCommercialTypes[\"Description\"] == np.object and dataCommercialTypes[\"Fringe\"] == np.object  and dataCommercialTypes[\"Position\"] == np.object and dataCommercialTypes[\"Rch Target Ibope\"] == np.object and dataCommercialTypes[\"Rch Target nacional\"] == np.object and dataCommercialTypes[\"Costo por spot\"] == np.object)):\n",
        "  raise Exception('The data type for all columns in dataCommercials must be of type String')\n",
        "\n",
        "for startTime in dataCommercials[\"Start Time\"]:\n",
        "  timeParts = startTime.split(\":\")\n",
        "\n",
        "\n",
        "\n",
        "\n",
        "  if (not((len(timeParts) == 3) and (isinstance(int(timeParts[0]), int)) and (isinstance(int(timeParts[1]), int)))):\n",
        "    raise ValueError(\"Incorrect Start Time format. The Start Time must be Hour:Minute\")\n",
        "\n",
        "for date in dataBaseLine[\"Date\"]:\n",
        "  try:\n",
        "    datetime.datetime.strptime(date, '%Y-%m-%d')\n",
        "  except ValueError:\n",
        "    raise ValueError(\"Incorrect data format. The Date must be YYYY-MM-DD\")\n",
        "\n",
        "\n",
        "\n",
        "for date in dataRealLine[\"Date\"]:\n",
        "  try:\n",
        "    datetime.datetime.strptime(date, '%Y-%m-%d')\n",
        "  except ValueError:\n",
        "    raise ValueError(\"Incorrect data format, The Date must be YYYY-MM-DD\")\n",
        "\n"
      ],
      "execution_count": null,
      "outputs": []
    },
    {
      "cell_type": "code",
      "metadata": {
        "id": "2ETvDqcGc0ZU"
      },
      "source": [
        "#Definition to transform the hourly data to simulated minutes\n",
        "\n",
        "def hoursToMin(listHours):\n",
        "    minData=[] #In this array you will store the minute by minute simulation\n",
        "    \n",
        "    for hour in listHours:\n",
        "        queriesEnHora=hour \n",
        "        \n",
        "        promedio=queriesEnHora/60.0\n",
        "\n",
        "        desviacionAjustada=promedio/3.0\n",
        "\n",
        "        data = np.random.normal(promedio,desviacionAjustada,60)   \n",
        "        \n",
        "        minData.append(data)\n",
        "    \n",
        "    return minData #You return a list of lists in which each interior list is a range of simulated minutes in a given hour \n"
      ],
      "execution_count": null,
      "outputs": []
    },
    {
      "cell_type": "code",
      "metadata": {
        "id": "zq81X3yIkvvN"
      },
      "source": [
        "\n",
        "def breakIntoDays(baseline):\n",
        "    baselineDateSeparation=[] #Este es un arreglo de columnas que podemos procesar\n",
        "\n",
        "    distinctDaysBaseline=baseline[[\"Date\"]].values.flatten().tolist()\n",
        "\n",
        "    distinctDaysBaseline = list(dict.fromkeys(distinctDaysBaseline)) #Aqui ya tenemos todas distintas fechas del baseline\n",
        "\n",
        "    #iteramos la lista de fechas distintas y categorizamos el baseline\n",
        "    for i in distinctDaysBaseline:\n",
        "        daySlice=baseline.loc[baseline[\"Date\"]==i]\n",
        "\n",
        "        baselineDateSeparation.append(daySlice)\n",
        "        \n",
        "    return baselineDateSeparation"
      ],
      "execution_count": null,
      "outputs": []
    },
    {
      "cell_type": "code",
      "metadata": {
        "id": "PCjm-7sklv7l"
      },
      "source": [
        "def stringToWeekDay(date):\n",
        "    date_time_obj = datetime.datetime.strptime(date, '%Y-%m-%d')\n",
        "    return date_time_obj.weekday()"
      ],
      "execution_count": null,
      "outputs": []
    },
    {
      "cell_type": "code",
      "metadata": {
        "id": "a_6qjUHdoC59"
      },
      "source": [
        "def markDayOfWeek(baselineDateSeparation):\n",
        "    for day in baselineDateSeparation:\n",
        "        day[\"weekDay\"] = day.apply(lambda row: stringToWeekDay(row[\"Date\"]), axis=1)\n",
        "    return baselineDateSeparation.copy()"
      ],
      "execution_count": null,
      "outputs": []
    },
    {
      "cell_type": "code",
      "metadata": {
        "id": "8R3J98iZoY74"
      },
      "source": [
        "#convertimos cada dia del baseline en minutos\n",
        "def baseDayToMins(baselineDateSeparation):\n",
        "    baselineMinutesPerDay=[]\n",
        "    for i in baselineDateSeparation:\n",
        "        listHours=i[[\"num_of_queries\"]].values\n",
        "        minutesOfADay=np.array(hoursToMin(listHours)).flatten()\n",
        "        baselineMinutesPerDay.append(minutesOfADay)\n",
        "    return baselineMinutesPerDay #Aqui tenemos un array por dia con su numero de minutos"
      ],
      "execution_count": null,
      "outputs": []
    },
    {
      "cell_type": "code",
      "metadata": {
        "id": "1Bff0iIdo-Um"
      },
      "source": [
        "def horarioAMinuto(horario):\n",
        "    splitHorario=horario.split(\":\")\n",
        "    minutoInicio=(int(splitHorario[0])*60)+int(splitHorario[1])\n",
        "    return minutoInicio"
      ],
      "execution_count": null,
      "outputs": []
    },
    {
      "cell_type": "code",
      "metadata": {
        "id": "ClZ3WtEw5Oi6"
      },
      "source": [
        "def markStartTimeCommercial(commercials):\n",
        "    \n",
        "    commercials[\"minutoInicio\"] = commercials.apply(lambda row: horarioAMinuto(row[\"Start Time\"]), axis=1)\n",
        "    \n",
        "    \n",
        "    return commercials.copy()"
      ],
      "execution_count": null,
      "outputs": []
    },
    {
      "cell_type": "code",
      "metadata": {
        "id": "eSdP18kx5e05"
      },
      "source": [
        "def studyInit(inicio, preperiod):\n",
        "    if((inicio-(preperiod*60))>=0):\n",
        "        return (inicio-(preperiod*60))\n",
        "    else:\n",
        "        return 0"
      ],
      "execution_count": null,
      "outputs": []
    },
    {
      "cell_type": "code",
      "metadata": {
        "id": "-65a7VsZ50UI"
      },
      "source": [
        "def studyFin(inicio, postperiod):\n",
        "    if((inicio+(postperiod*60))>=1440):\n",
        "        return 1439\n",
        "    else:\n",
        "        return (inicio+(postperiod*60))"
      ],
      "execution_count": null,
      "outputs": []
    },
    {
      "cell_type": "code",
      "metadata": {
        "id": "2mv_ch5K5_Li"
      },
      "source": [
        "def markTimesStudyCommercial(commercials,preperiod,postperiod):\n",
        "    \n",
        "    commercials[\"studyInit\"]=commercials.apply(lambda row: int(studyInit(row[\"minutoInicio\"],preperiod)), axis=1)\n",
        "    commercials[\"studyFin\"]=commercials.apply(lambda row: int(studyFin(row[\"minutoInicio\"],postperiod)), axis=1)\n",
        "    \n",
        "    #commercials['studyInit'] =  (commercials['minutoInicio'] -(preperiod*60) )\n",
        "    #commercials['studyFin'] =  (commercials['minutoInicio'] +(postperiod*60) )\n",
        "    return commercials"
      ],
      "execution_count": null,
      "outputs": []
    },
    {
      "cell_type": "code",
      "metadata": {
        "id": "QFdWdSRN6Pwf"
      },
      "source": [
        "def getYIndex(commercial,reallineDateSeparation):\n",
        "    y=0\n",
        "    index=0\n",
        "    for day in reallineDateSeparation:\n",
        "        #print(day[\"Date\"].values[0])\n",
        "        #print(commercial)\n",
        "        \n",
        "        \n",
        "        if(day[\"Date\"].values[0]==commercial):\n",
        "            y=index\n",
        "            return y\n",
        "        index+=1\n",
        "        \n",
        "    return y"
      ],
      "execution_count": null,
      "outputs": []
    },
    {
      "cell_type": "code",
      "metadata": {
        "id": "6fwXV9d06t1A"
      },
      "source": [
        "def getRealIndex(markedCommercials,reallineDateSeparation):\n",
        "    #por cada renglon llamamos una funcion que nos va a decir en que indice de realline data separation esta el dia real en que se dio el comercial\n",
        "    markedCommercials[\"YIndex\"]=markedCommercials.apply(lambda row: getYIndex(row[\"Date\"],reallineDateSeparation), axis=1)\n",
        "    return markedCommercials"
      ],
      "execution_count": null,
      "outputs": []
    },
    {
      "cell_type": "code",
      "metadata": {
        "id": "XiUFWSic68uZ"
      },
      "source": [
        "#Definimos la funcion\n",
        "def completeCausalImpact(baseline, commercials, realine):\n",
        "    np.random.seed(12345)\n",
        "    baselineDateSeparation=breakIntoDays(baseline) #Aqui ya tenemos la separacion por dia del baseline\n",
        "    #print(baselineDateSeparation)\n",
        "\n",
        "\n",
        " #Vamos a recorrer cada seccion y generar una lista con el dia de la semana que es y se la agregamos como col\n",
        "    baselineDateSeparation=markDayOfWeek(baselineDateSeparation) #Aqui ya cada dia tiene si dia de la semana que le toca\n",
        "    #print(baselineDateSeparation)\n",
        "\n",
        "\n",
        "\n",
        "    #print(np.sum(baselineDateSeparation[15]['num_of_queries']))\n",
        "\n",
        "    #ahora generamos los minutos de cada dia del baseline en otro arreglo de arreglos\n",
        "    #Se va a vincular a la separacion de dias por tener el mismo indice\n",
        "    baselinesInMins=baseDayToMins(baselineDateSeparation)# aqui ya tenemos todo el baseline en arreglos de minutos\n",
        "    #print(baselinesInMins)\n",
        "\n",
        "\n",
        "    ########################################################################\n",
        "    #Vamos a procesar de manera similar los datos que hay en el tiempo que sucedieron los anuncios\n",
        "    realineDateSeparation=breakIntoDays(realine)\n",
        "    #print(realineDateSeparation)\n",
        "    reallineDateSeparation=markDayOfWeek(realineDateSeparation)\n",
        "    #print(realineDateSeparation)\n",
        "    realinesInMins=baseDayToMins(reallineDateSeparation)\n",
        "    #print(np.sum(realinesInMins[1]))\n",
        "\n",
        "\n",
        "\n",
        "\n",
        "\n",
        "    markedCommercials=markStartTimeCommercial(commercials) #Aqui ya tenemos el dataset de comerciales pero queremos calcular y agregar los rangos manejando los casos extremos\n",
        "    #print(markedCommercials)\n",
        "\n",
        "\n",
        "\n",
        "    markedCommercials=markTimesStudyCommercial(markedCommercials,4.5,0.6) #Aqui ya tenemos los comerciales con sus rangos para probar\n",
        "    #print(markedCommercials)\n",
        "\n",
        "\n",
        "\n",
        "    #queremos calcular el real index que le corresponde que va a ser Y\n",
        "    markedCommercials=getRealIndex(markedCommercials,reallineDateSeparation)#Aqui ya sabemos el indice de reallineDateSeparation al que corresponde cada comercial, vamos a sacar las Y\n",
        "    print(markedCommercials)\n",
        "    #print(reallineDateSeparation[27])\n",
        "\n",
        "\n",
        "\n",
        "\n",
        "\n",
        "\n",
        "    objects=[]\n",
        "    pvalues=[]\n",
        "    impact=[]\n",
        "    relativeEffectLow=[]\n",
        "    relativeEffectHigh=[]\n",
        "\n",
        "    for index , commercial in markedCommercials.iterrows():\n",
        "\n",
        "        #print(commercial)\n",
        "\n",
        "\n",
        "        #creamos un diccionario y le asignamos y\n",
        "        \n",
        "        #print(\"Yindex\")\n",
        "        #print(commercial[\"YIndex\"])\n",
        "        #print(\"init\")\n",
        "        #print(commercial[\"studyInit\"])\n",
        "        #print(\"fin\")\n",
        "        #print(commercial[\"studyFin\"])\n",
        "        \n",
        "        \n",
        "        \n",
        "        \n",
        "        dic={\"y\":realinesInMins[commercial[\"YIndex\"]][commercial[\"studyInit\"]:commercial[\"studyFin\"]]}\n",
        "        \n",
        "        #aqui ya tenemos la y para cada comercial ahora vamos a calcular las X1,X2,X3... para cada comercial y lo vamos agregando al objeto dic\n",
        "        xs=[\"y\"]\n",
        "        #para cada baseline guardo el indice y lo voy poniendo en xs mas la X y voy agregando a dic el key value con X que toque y su baseline recortado como arriba\n",
        "        indice=0\n",
        "        for baseline in baselinesInMins:\n",
        "            xstring=\"X\"+str(indice)\n",
        "            xs.append(xstring)\n",
        "            dic[xstring]=baseline[commercial[\"studyInit\"]:commercial[\"studyFin\"]]\n",
        "            indice+=1\n",
        "        objects.append(dic) ###Aqui nos quedamos\n",
        "        #print(xs)\n",
        "        \n",
        "        #finalmente vamos a ejecutar causal impact en cada comercial para ver el impacto\n",
        "        \n",
        "        #print(\"y\")\n",
        "        #print(len(dic[\"y\"]))\n",
        "        #print(\"X0\")\n",
        "        #print(len(dic[\"X0\"]))\n",
        "        \n",
        "        #print(\"indice\")\n",
        "        #print(index)\n",
        "        \n",
        "        #print(\"studyInit\")\n",
        "        #print(commercial[\"studyInit\"])\n",
        "        #print(\"studyFin\")\n",
        "        #print(commercial[\"studyFin\"])\n",
        "        \n",
        "        \n",
        "        \n",
        "        \n",
        "        \n",
        "        \n",
        "        try:\n",
        "        \n",
        "            dataCausal = pd.DataFrame(dic, columns=xs)\n",
        "            pre_period = [0, 240]\n",
        "            post_period = [241, len(dic[\"y\"])-1]\n",
        "\n",
        "            ci = CausalImpact(dataCausal, pre_period, post_period, prior_level_sd=None)\n",
        "            pvalue=ci.p_value\n",
        "            imp=ci.summary_data[\"cumulative\"][4]\n",
        "            \n",
        "            if(pvalue<0.05):\n",
        "                pvalues.append(pvalue)\n",
        "                impact.append(imp)\n",
        "                relativeEffectLow.append(ci.summary_data[\"cumulative\"][8])\n",
        "                relativeEffectHigh.append(ci.summary_data[\"cumulative\"][9])\n",
        "            else:\n",
        "                pvalues.append(pvalue)\n",
        "                impact.append(0)\n",
        "                relativeEffectLow.append(0)\n",
        "                relativeEffectHigh.append(0)\n",
        "            #print(ci.summary())\n",
        "            #print(ci.summary(output='report'))\n",
        "            #ci.plot()\n",
        "        except:\n",
        "            pvalues.append(0)\n",
        "            impact.append(0)\n",
        "            relativeEffectLow.append(0)\n",
        "            relativeEffectHigh.append(0)\n",
        "            continue\n",
        "        print(index)\n",
        "        print(pvalues)\n",
        "        print(impact)\n",
        "        \n",
        "            \n",
        "    #print(pvalues)\n",
        "    markedCommercials[\"pvalue\"]=pvalues\n",
        "    markedCommercials[\"impact\"]=impact\n",
        "    markedCommercials[\"relEffectHigh\"]=relativeEffectHigh\n",
        "    markedCommercials[\"relEffectLow\"]=relativeEffectLow\n",
        "    \n",
        "    print(type(markedCommercials))\n",
        "    print(markedCommercials)\n",
        "    markedCommercials.to_csv(r\"timefix_offus_olauno_like_revitalift.csv\")\n",
        "    return markedCommercials\n",
        "        \n",
        "            \n",
        "    \n",
        "    \n",
        "    #Ahora vamos a tomar el indice que corresponde al dia del comercial en realineDateSeparation tomamos ese indice de realinesInMins\n",
        "    #tomamos el slice que viene en markedCommercials en studyinit y studyfin y ese será Y\n",
        "    \n",
        "    \n",
        "    \n",
        "    #Para las X vamos a crear un slice con lo que viene en markedCommercials cada slice va a ser un baseline X1,X2,X3...\n",
        "    #armamos el dataframe con los resultados y corremos el modelo\n",
        "    \n",
        "\n",
        "\n"
      ],
      "execution_count": null,
      "outputs": []
    },
    {
      "cell_type": "code",
      "metadata": {
        "id": "PLAKRDtc6-Xx",
        "outputId": "4fb7a2c2-2778-4dd6-efbd-d3fda73d192c",
        "colab": {
          "base_uri": "https://localhost:8080/",
          "height": 645
        }
      },
      "source": [
        "#ejecutamos la funcion\n",
        "result = completeCausalImpact(dataBaseLine, dataCommercials, dataRealLine)"
      ],
      "execution_count": null,
      "outputs": [
        {
          "output_type": "stream",
          "text": [
            "/usr/local/lib/python3.6/dist-packages/ipykernel_launcher.py:3: SettingWithCopyWarning: \n",
            "A value is trying to be set on a copy of a slice from a DataFrame.\n",
            "Try using .loc[row_indexer,col_indexer] = value instead\n",
            "\n",
            "See the caveats in the documentation: https://pandas.pydata.org/pandas-docs/stable/user_guide/indexing.html#returning-a-view-versus-a-copy\n",
            "  This is separate from the ipykernel package so we can avoid doing imports until\n"
          ],
          "name": "stderr"
        },
        {
          "output_type": "stream",
          "text": [
            "                   Channel        Date Start Time  ... studyInit studyFin YIndex\n",
            "0           TLNOVELAS IZZI  2020-07-13   14:16:27  ...       586      892      0\n",
            "1           TLNOVELAS IZZI  2020-07-13   15:09:23  ...       639      945      0\n",
            "2           TLNOVELAS IZZI  2020-07-13   16:45:25  ...       735     1041      0\n",
            "3           TLNOVELAS IZZI  2020-07-13   17:40:26  ...       790     1096      0\n",
            "4         DE PELICULA IZZI  2020-07-13   13:58:24  ...       568      874      0\n",
            "..                     ...         ...        ...  ...       ...      ...    ...\n",
            "945  DISTRITO COMEDIA IZZI  2020-08-09   16:04:15  ...       694     1000      0\n",
            "946         TELEMUNDO IZZI  2020-08-09   09:51:58  ...       321      627      0\n",
            "947         TELEMUNDO IZZI  2020-08-09   12:12:00  ...       462      768      0\n",
            "948         TELEMUNDO IZZI  2020-08-09   18:12:42  ...       822     1128      0\n",
            "949                    nan         nan   16:34:57  ...       724     1030      0\n",
            "\n",
            "[950 rows x 15 columns]\n",
            "<class 'pandas.core.frame.DataFrame'>\n",
            "                   Channel        Date  ... relEffectHigh relEffectLow\n",
            "0           TLNOVELAS IZZI  2020-07-13  ...             0            0\n",
            "1           TLNOVELAS IZZI  2020-07-13  ...             0            0\n",
            "2           TLNOVELAS IZZI  2020-07-13  ...             0            0\n",
            "3           TLNOVELAS IZZI  2020-07-13  ...             0            0\n",
            "4         DE PELICULA IZZI  2020-07-13  ...             0            0\n",
            "..                     ...         ...  ...           ...          ...\n",
            "945  DISTRITO COMEDIA IZZI  2020-08-09  ...             0            0\n",
            "946         TELEMUNDO IZZI  2020-08-09  ...             0            0\n",
            "947         TELEMUNDO IZZI  2020-08-09  ...             0            0\n",
            "948         TELEMUNDO IZZI  2020-08-09  ...             0            0\n",
            "949                    nan         nan  ...             0            0\n",
            "\n",
            "[950 rows x 19 columns]\n"
          ],
          "name": "stdout"
        }
      ]
    },
    {
      "cell_type": "code",
      "metadata": {
        "id": "3mRy33gjjvZO",
        "outputId": "a01f417d-be65-4c69-ad91-f406ab24ad03",
        "colab": {
          "base_uri": "https://localhost:8080/",
          "height": 34
        }
      },
      "source": [
        "result['relEffectLow'].unique()"
      ],
      "execution_count": null,
      "outputs": [
        {
          "output_type": "execute_result",
          "data": {
            "text/plain": [
              "array([0])"
            ]
          },
          "metadata": {
            "tags": []
          },
          "execution_count": 68
        }
      ]
    },
    {
      "cell_type": "code",
      "metadata": {
        "id": "_-ttu6ZvjltS"
      },
      "source": [
        ""
      ],
      "execution_count": null,
      "outputs": []
    }
  ]
}